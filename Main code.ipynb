{
 "cells": [
  {
   "cell_type": "code",
   "execution_count": 2,
   "id": "0987f4fa",
   "metadata": {},
   "outputs": [
    {
     "name": "stdout",
     "output_type": "stream",
     "text": [
      "Requirement already satisfied: cohere in c:\\users\\nithish\\appdata\\local\\packages\\pythonsoftwarefoundation.python.3.11_qbz5n2kfra8p0\\localcache\\local-packages\\python311\\site-packages (4.27)\n",
      "Requirement already satisfied: aiohttp<4.0,>=3.0 in c:\\users\\nithish\\appdata\\local\\packages\\pythonsoftwarefoundation.python.3.11_qbz5n2kfra8p0\\localcache\\local-packages\\python311\\site-packages (from cohere) (3.8.6)\n",
      "Requirement already satisfied: backoff<3.0,>=2.0 in c:\\users\\nithish\\appdata\\local\\packages\\pythonsoftwarefoundation.python.3.11_qbz5n2kfra8p0\\localcache\\local-packages\\python311\\site-packages (from cohere) (2.2.1)\n",
      "Requirement already satisfied: fastavro==1.8.2 in c:\\users\\nithish\\appdata\\local\\packages\\pythonsoftwarefoundation.python.3.11_qbz5n2kfra8p0\\localcache\\local-packages\\python311\\site-packages (from cohere) (1.8.2)\n",
      "Requirement already satisfied: importlib_metadata<7.0,>=6.0 in c:\\users\\nithish\\appdata\\local\\packages\\pythonsoftwarefoundation.python.3.11_qbz5n2kfra8p0\\localcache\\local-packages\\python311\\site-packages (from cohere) (6.8.0)\n",
      "Requirement already satisfied: requests<3.0.0,>=2.25.0 in c:\\users\\nithish\\appdata\\local\\packages\\pythonsoftwarefoundation.python.3.11_qbz5n2kfra8p0\\localcache\\local-packages\\python311\\site-packages (from cohere) (2.31.0)\n",
      "Requirement already satisfied: urllib3<3,>=1.26 in c:\\users\\nithish\\appdata\\local\\packages\\pythonsoftwarefoundation.python.3.11_qbz5n2kfra8p0\\localcache\\local-packages\\python311\\site-packages (from cohere) (2.0.6)\n",
      "Requirement already satisfied: attrs>=17.3.0 in c:\\users\\nithish\\appdata\\local\\packages\\pythonsoftwarefoundation.python.3.11_qbz5n2kfra8p0\\localcache\\local-packages\\python311\\site-packages (from aiohttp<4.0,>=3.0->cohere) (23.1.0)\n",
      "Requirement already satisfied: charset-normalizer<4.0,>=2.0 in c:\\users\\nithish\\appdata\\local\\packages\\pythonsoftwarefoundation.python.3.11_qbz5n2kfra8p0\\localcache\\local-packages\\python311\\site-packages (from aiohttp<4.0,>=3.0->cohere) (3.3.0)\n",
      "Requirement already satisfied: multidict<7.0,>=4.5 in c:\\users\\nithish\\appdata\\local\\packages\\pythonsoftwarefoundation.python.3.11_qbz5n2kfra8p0\\localcache\\local-packages\\python311\\site-packages (from aiohttp<4.0,>=3.0->cohere) (6.0.4)\n",
      "Requirement already satisfied: async-timeout<5.0,>=4.0.0a3 in c:\\users\\nithish\\appdata\\local\\packages\\pythonsoftwarefoundation.python.3.11_qbz5n2kfra8p0\\localcache\\local-packages\\python311\\site-packages (from aiohttp<4.0,>=3.0->cohere) (4.0.3)\n",
      "Requirement already satisfied: yarl<2.0,>=1.0 in c:\\users\\nithish\\appdata\\local\\packages\\pythonsoftwarefoundation.python.3.11_qbz5n2kfra8p0\\localcache\\local-packages\\python311\\site-packages (from aiohttp<4.0,>=3.0->cohere) (1.9.2)\n",
      "Requirement already satisfied: frozenlist>=1.1.1 in c:\\users\\nithish\\appdata\\local\\packages\\pythonsoftwarefoundation.python.3.11_qbz5n2kfra8p0\\localcache\\local-packages\\python311\\site-packages (from aiohttp<4.0,>=3.0->cohere) (1.4.0)\n",
      "Requirement already satisfied: aiosignal>=1.1.2 in c:\\users\\nithish\\appdata\\local\\packages\\pythonsoftwarefoundation.python.3.11_qbz5n2kfra8p0\\localcache\\local-packages\\python311\\site-packages (from aiohttp<4.0,>=3.0->cohere) (1.3.1)\n",
      "Requirement already satisfied: zipp>=0.5 in c:\\users\\nithish\\appdata\\local\\packages\\pythonsoftwarefoundation.python.3.11_qbz5n2kfra8p0\\localcache\\local-packages\\python311\\site-packages (from importlib_metadata<7.0,>=6.0->cohere) (3.17.0)\n",
      "Requirement already satisfied: idna<4,>=2.5 in c:\\users\\nithish\\appdata\\local\\packages\\pythonsoftwarefoundation.python.3.11_qbz5n2kfra8p0\\localcache\\local-packages\\python311\\site-packages (from requests<3.0.0,>=2.25.0->cohere) (3.4)\n",
      "Requirement already satisfied: certifi>=2017.4.17 in c:\\users\\nithish\\appdata\\local\\packages\\pythonsoftwarefoundation.python.3.11_qbz5n2kfra8p0\\localcache\\local-packages\\python311\\site-packages (from requests<3.0.0,>=2.25.0->cohere) (2023.7.22)\n",
      "Note: you may need to restart the kernel to use updated packages.\n"
     ]
    },
    {
     "name": "stderr",
     "output_type": "stream",
     "text": [
      "\n",
      "[notice] A new release of pip is available: 23.2.1 -> 23.3.1\n",
      "[notice] To update, run: C:\\Users\\NITHISH\\AppData\\Local\\Microsoft\\WindowsApps\\PythonSoftwareFoundation.Python.3.11_qbz5n2kfra8p0\\python.exe -m pip install --upgrade pip\n"
     ]
    }
   ],
   "source": [
    "pip install cohere"
   ]
  },
  {
   "cell_type": "code",
   "execution_count": 3,
   "id": "0d7e7904",
   "metadata": {},
   "outputs": [
    {
     "name": "stdout",
     "output_type": "stream",
     "text": [
      "Requirement already satisfied: requests in c:\\users\\nithish\\appdata\\local\\packages\\pythonsoftwarefoundation.python.3.11_qbz5n2kfra8p0\\localcache\\local-packages\\python311\\site-packages (2.31.0)\n",
      "Requirement already satisfied: charset-normalizer<4,>=2 in c:\\users\\nithish\\appdata\\local\\packages\\pythonsoftwarefoundation.python.3.11_qbz5n2kfra8p0\\localcache\\local-packages\\python311\\site-packages (from requests) (3.3.0)\n",
      "Requirement already satisfied: idna<4,>=2.5 in c:\\users\\nithish\\appdata\\local\\packages\\pythonsoftwarefoundation.python.3.11_qbz5n2kfra8p0\\localcache\\local-packages\\python311\\site-packages (from requests) (3.4)\n",
      "Requirement already satisfied: urllib3<3,>=1.21.1 in c:\\users\\nithish\\appdata\\local\\packages\\pythonsoftwarefoundation.python.3.11_qbz5n2kfra8p0\\localcache\\local-packages\\python311\\site-packages (from requests) (2.0.6)\n",
      "Requirement already satisfied: certifi>=2017.4.17 in c:\\users\\nithish\\appdata\\local\\packages\\pythonsoftwarefoundation.python.3.11_qbz5n2kfra8p0\\localcache\\local-packages\\python311\\site-packages (from requests) (2023.7.22)\n",
      "Note: you may need to restart the kernel to use updated packages.\n"
     ]
    },
    {
     "name": "stderr",
     "output_type": "stream",
     "text": [
      "\n",
      "[notice] A new release of pip is available: 23.2.1 -> 23.3.1\n",
      "[notice] To update, run: C:\\Users\\NITHISH\\AppData\\Local\\Microsoft\\WindowsApps\\PythonSoftwareFoundation.Python.3.11_qbz5n2kfra8p0\\python.exe -m pip install --upgrade pip\n"
     ]
    }
   ],
   "source": [
    "pip install requests"
   ]
  },
  {
   "cell_type": "code",
   "execution_count": 4,
   "id": "a5a2c485",
   "metadata": {},
   "outputs": [
    {
     "name": "stdout",
     "output_type": "stream",
     "text": [
      "Note: you may need to restart the kernel to use updated packages.\n"
     ]
    },
    {
     "name": "stderr",
     "output_type": "stream",
     "text": [
      "ERROR: Could not find a version that satisfies the requirement json (from versions: none)\n",
      "ERROR: No matching distribution found for json\n",
      "\n",
      "[notice] A new release of pip is available: 23.2.1 -> 23.3.1\n",
      "[notice] To update, run: C:\\Users\\NITHISH\\AppData\\Local\\Microsoft\\WindowsApps\\PythonSoftwareFoundation.Python.3.11_qbz5n2kfra8p0\\python.exe -m pip install --upgrade pip\n"
     ]
    }
   ],
   "source": [
    "pip install json"
   ]
  },
  {
   "cell_type": "code",
   "execution_count": 26,
   "id": "2d6293cf",
   "metadata": {},
   "outputs": [],
   "source": [
    "import cohere\n",
    "co = cohere.Client('eJsSh3EXHErcxdR2T6atI2b9GEF1QFlnO6PqJM0B')"
   ]
  },
  {
   "cell_type": "code",
   "execution_count": 27,
   "id": "d91885d0",
   "metadata": {},
   "outputs": [
    {
     "name": "stdout",
     "output_type": "stream",
     "text": [
      "Are you planning to capture your special moments or looking for a studio to get your passport photos clicked?\n",
      "\n",
      "Shravani Digital Studio based out of Vasai-Virar, India is here to your rescue! They provide professional services for wedding photoshoots, pre-wedding photoshoots, and passport photos using 4K cameras and drones. \n",
      "\n",
      "Their services also include photo background changes and Xerox. They use advanced technology and accurate processors to get your work done in a jiffy! \n",
      "\n",
      "Don't believe us? Check out their Instagram page to learn more about them and see their work. #ShravaniDigitalStudio #PhotographyGoals #Weddings\n",
      "Post was successfully created.\n"
     ]
    }
   ],
   "source": [
    "import requests\n",
    "import json\n",
    "\n",
    "chat_history = []\n",
    "max_turns = 10\n",
    "\n",
    "for _ in range(max_turns):\n",
    "\t\n",
    "\t# get user input\n",
    "\tbuss_name   = input(max_turns + \":Please enter your Bussiness name :\")\n",
    "\tbuss_est    = input(max_turns + \":Please enter your Bussiness Established date :\")\n",
    "\tbuss_fun    = input(max_turns + \":Please enter your bussiness functions\")\n",
    "\tbuss_spec   = input(max_turns + \":please enter your special functions of your bussiness\")\n",
    "\tprompt     = \"Generate social media content based on the information decimented ' ' '\"+buss_name+\",\"+buss_est+\",\"+buss_fun+\",\"+buss_spec+\"' ' ' / Use hastags / Highlight the special functions / Use emojis precisely / Content should be professional and attractive / Use rich vocabulary\"\n",
    "\tuser_prompt = input(max_turns + \":Please mention about additional functionalities or specifications of post\")\n",
    "\tmessage = prompt +\"/\" + user_prompt\n",
    "\t\t\n",
    "\t# generate a response with the current chat history\n",
    "\tresponse = co.chat(\n",
    "\t\tmessage,\n",
    "\t\ttemperature=0.2,\n",
    "\t\tchat_history=chat_history,\n",
    "\t\tconnectors=[{\"id\": \"web-search\"}]\n",
    "\t)\n",
    "\tanswer = response.text\n",
    "\t\t\n",
    "\tprint(answer)\n",
    "\n",
    "\t#Posting content on linkedin via api calls\n",
    "\t# Replace these with your own values\n",
    "\taccess_token = 'AQWhPaOYYTaV_9rrCCP29SfDzNmupG4VoXAJyvW5kRq0IDp6UwcTz4H0rD1I5kxmWMSqjoXfxGBj7gay1usXBUhqkdotav2_GAEhXCdGwvyftc-3SMaaUxaRgdBNsykDDQx_z3kpV9GT6DbZ0yzIuXIWhnCC2s7VQkYhdc4fQgQdNSpTH02hPMHATvrNtDYLYd9bOFX1pelrJzNfB88PKQJcw20_46SKuhpvkqdejQrzTRWQAgFNkzKbPk42vYvjaQyBcu6Rvu2XsoM8zhT-F1Pj008ppjsxoxN8NhDTFSA1yxGvIGN179aM6MGUc7MA-AyWreIh89o7hzv9V7qvWlvpNAx-OQ'\n",
    "\torganization_id = '99020026' #url of company page\n",
    "\n",
    "\t# This is the API endpoint for creating a new UGC post\n",
    "\turl = 'https://api.linkedin.com/v2/ugcPosts'\n",
    "\n",
    "\t# This is the header for your POST request\n",
    "\theaders = {\n",
    "\t\t'X-Restli-Protocol-Version': '2.0.0',\n",
    "\t\t'Content-Type': 'application/json',\n",
    "\t\t'Authorization': f'Bearer {access_token}'\n",
    "\t}\n",
    "\n",
    "\t# This is the body of your POST request\n",
    "\tbody = {\n",
    "\t\t\"author\": \"urn:li:organization:99020026\",\n",
    "\t\t\"lifecycleState\": \"PUBLISHED\",\n",
    "\t\t\"specificContent\": {\n",
    "\t\t\t\"com.linkedin.ugc.ShareContent\": {\n",
    "\t\t\t\t\"shareCommentary\": {\n",
    "\t\t\t\t\t\"text\": answer\n",
    "\t\t\t\t},\n",
    "\t\t\t\t\"shareMediaCategory\": \"NONE\"\n",
    "\t\t\t}\n",
    "\t\t},\n",
    "\t\t\"visibility\": {\n",
    "\t\t\t\"com.linkedin.ugc.MemberNetworkVisibility\": \"PUBLIC\"\n",
    "\t\t}\n",
    "\t}\n",
    "\n",
    "\t# Make the POST request\n",
    "\tresponse = requests.post(url, headers=headers, data=json.dumps(body))\n",
    "\n",
    "\t# Print the response\n",
    "\tif response.status_code == 201:\n",
    "\t\tprint('Post was successfully created.')\n",
    "\telse:\n",
    "\t\tprint(f'Failed to create post: {response.content}')\n",
    "\n",
    "\t# add message and answer to the chat history\n",
    "\tuser_message = {\"user_name\": \"User\", \"text\": message}\n",
    "\tbot_message = {\"user_name\": \"Chatbot\", \"text\": answer}\n",
    "\n",
    "\tchat_history.append(user_message)\n",
    "\tchat_history.append(bot_message)"
   ]
  },
  {
   "cell_type": "code",
   "execution_count": 20,
   "id": "78b93700",
   "metadata": {},
   "outputs": [
    {
     "name": "stdout",
     "output_type": "stream",
     "text": [
      "Post was successfully created.\n"
     ]
    }
   ],
   "source": [
    "import requests\n",
    "import json\n",
    "\n",
    "# Replace these with your own values\n",
    "access_token = 'AQWhPaOYYTaV_9rrCCP29SfDzNmupG4VoXAJyvW5kRq0IDp6UwcTz4H0rD1I5kxmWMSqjoXfxGBj7gay1usXBUhqkdotav2_GAEhXCdGwvyftc-3SMaaUxaRgdBNsykDDQx_z3kpV9GT6DbZ0yzIuXIWhnCC2s7VQkYhdc4fQgQdNSpTH02hPMHATvrNtDYLYd9bOFX1pelrJzNfB88PKQJcw20_46SKuhpvkqdejQrzTRWQAgFNkzKbPk42vYvjaQyBcu6Rvu2XsoM8zhT-F1Pj008ppjsxoxN8NhDTFSA1yxGvIGN179aM6MGUc7MA-AyWreIh89o7hzv9V7qvWlvpNAx-OQ'\n",
    "organization_id = '99020026' #url of company page\n",
    "\n",
    "# This is the API endpoint for creating a new UGC post\n",
    "url = 'https://api.linkedin.com/v2/ugcPosts'\n",
    "\n",
    "# This is the header for your POST request\n",
    "headers = {\n",
    "    'X-Restli-Protocol-Version': '2.0.0',\n",
    "    'Content-Type': 'application/json',\n",
    "    'Authorization': f'Bearer {access_token}'\n",
    "}\n",
    "\n",
    "# This is the body of your POST request\n",
    "body = {\n",
    "    \"author\": \"urn:li:organization:99020026\",\n",
    "    \"lifecycleState\": \"PUBLISHED\",\n",
    "    \"specificContent\": {\n",
    "        \"com.linkedin.ugc.ShareContent\": {\n",
    "            \"shareCommentary\": {\n",
    "                \"text\": response.text\n",
    "            },\n",
    "            \"shareMediaCategory\": \"NONE\"\n",
    "        }\n",
    "    },\n",
    "    \"visibility\": {\n",
    "        \"com.linkedin.ugc.MemberNetworkVisibility\": \"PUBLIC\"\n",
    "    }\n",
    "}\n",
    "\n",
    "# Make the POST request\n",
    "response = requests.post(url, headers=headers, data=json.dumps(body))\n",
    "\n",
    "# Print the response\n",
    "if response.status_code == 201:\n",
    "    print('Post was successfully created.')\n",
    "else:\n",
    "    print(f'Failed to create post: {response.content}')"
   ]
  }
 ],
 "metadata": {
  "kernelspec": {
   "display_name": "Python 3 (ipykernel)",
   "language": "python",
   "name": "python3"
  },
  "language_info": {
   "codemirror_mode": {
    "name": "ipython",
    "version": 3
   },
   "file_extension": ".py",
   "mimetype": "text/x-python",
   "name": "python",
   "nbconvert_exporter": "python",
   "pygments_lexer": "ipython3",
   "version": "3.11.6"
  }
 },
 "nbformat": 4,
 "nbformat_minor": 5
}
